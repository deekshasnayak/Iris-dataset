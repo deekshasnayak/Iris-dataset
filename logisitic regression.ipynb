{
 "cells": [
  {
   "cell_type": "markdown",
   "id": "eee161c6",
   "metadata": {},
   "source": [
    "# 20BTRCD004\n",
    "# DEEKSHA SATISH NAYAK\n",
    "# EXPERIMENT 3\n",
    "## Logistic Regression"
   ]
  },
  {
   "cell_type": "code",
   "execution_count": 1,
   "id": "7d98b2de",
   "metadata": {},
   "outputs": [],
   "source": [
    "from sklearn import datasets\n",
    "import pandas as pd\n",
    "import numpy as np\n",
    "import matplotlib.pyplot as plt"
   ]
  },
  {
   "cell_type": "code",
   "execution_count": 2,
   "id": "3f095b1d",
   "metadata": {},
   "outputs": [
    {
     "data": {
      "text/plain": [
       "dict_keys(['data', 'target', 'frame', 'target_names', 'DESCR', 'feature_names', 'filename'])"
      ]
     },
     "execution_count": 2,
     "metadata": {},
     "output_type": "execute_result"
    }
   ],
   "source": [
    "ir = datasets.load_iris() #Loading the dataset\n",
    "ir.keys()"
   ]
  },
  {
   "cell_type": "code",
   "execution_count": 3,
   "id": "bf389595",
   "metadata": {},
   "outputs": [
    {
     "data": {
      "text/plain": [
       "dict_keys(['data', 'target', 'frame', 'target_names', 'DESCR', 'feature_names', 'filename'])"
      ]
     },
     "execution_count": 3,
     "metadata": {},
     "output_type": "execute_result"
    }
   ],
   "source": [
    "ir.keys()"
   ]
  },
  {
   "cell_type": "code",
   "execution_count": 4,
   "id": "0906b517",
   "metadata": {},
   "outputs": [],
   "source": [
    "ir = pd.DataFrame(data = np.c_[ir['data'], ir['target']],columns= ir['feature_names']+['target'])"
   ]
  },
  {
   "cell_type": "code",
   "execution_count": 5,
   "id": "3828b5a3",
   "metadata": {},
   "outputs": [
    {
     "data": {
      "text/html": [
       "<div>\n",
       "<style scoped>\n",
       "    .dataframe tbody tr th:only-of-type {\n",
       "        vertical-align: middle;\n",
       "    }\n",
       "\n",
       "    .dataframe tbody tr th {\n",
       "        vertical-align: top;\n",
       "    }\n",
       "\n",
       "    .dataframe thead th {\n",
       "        text-align: right;\n",
       "    }\n",
       "</style>\n",
       "<table border=\"1\" class=\"dataframe\">\n",
       "  <thead>\n",
       "    <tr style=\"text-align: right;\">\n",
       "      <th></th>\n",
       "      <th>sepal length (cm)</th>\n",
       "      <th>sepal width (cm)</th>\n",
       "      <th>petal length (cm)</th>\n",
       "      <th>petal width (cm)</th>\n",
       "      <th>target</th>\n",
       "    </tr>\n",
       "  </thead>\n",
       "  <tbody>\n",
       "    <tr>\n",
       "      <th>0</th>\n",
       "      <td>5.1</td>\n",
       "      <td>3.5</td>\n",
       "      <td>1.4</td>\n",
       "      <td>0.2</td>\n",
       "      <td>0.0</td>\n",
       "    </tr>\n",
       "    <tr>\n",
       "      <th>1</th>\n",
       "      <td>4.9</td>\n",
       "      <td>3.0</td>\n",
       "      <td>1.4</td>\n",
       "      <td>0.2</td>\n",
       "      <td>0.0</td>\n",
       "    </tr>\n",
       "    <tr>\n",
       "      <th>2</th>\n",
       "      <td>4.7</td>\n",
       "      <td>3.2</td>\n",
       "      <td>1.3</td>\n",
       "      <td>0.2</td>\n",
       "      <td>0.0</td>\n",
       "    </tr>\n",
       "    <tr>\n",
       "      <th>3</th>\n",
       "      <td>4.6</td>\n",
       "      <td>3.1</td>\n",
       "      <td>1.5</td>\n",
       "      <td>0.2</td>\n",
       "      <td>0.0</td>\n",
       "    </tr>\n",
       "    <tr>\n",
       "      <th>4</th>\n",
       "      <td>5.0</td>\n",
       "      <td>3.6</td>\n",
       "      <td>1.4</td>\n",
       "      <td>0.2</td>\n",
       "      <td>0.0</td>\n",
       "    </tr>\n",
       "  </tbody>\n",
       "</table>\n",
       "</div>"
      ],
      "text/plain": [
       "   sepal length (cm)  sepal width (cm)  petal length (cm)  petal width (cm)  \\\n",
       "0                5.1               3.5                1.4               0.2   \n",
       "1                4.9               3.0                1.4               0.2   \n",
       "2                4.7               3.2                1.3               0.2   \n",
       "3                4.6               3.1                1.5               0.2   \n",
       "4                5.0               3.6                1.4               0.2   \n",
       "\n",
       "   target  \n",
       "0     0.0  \n",
       "1     0.0  \n",
       "2     0.0  \n",
       "3     0.0  \n",
       "4     0.0  "
      ]
     },
     "execution_count": 5,
     "metadata": {},
     "output_type": "execute_result"
    }
   ],
   "source": [
    "ir.head()"
   ]
  },
  {
   "cell_type": "code",
   "execution_count": 6,
   "id": "4ed2112f",
   "metadata": {},
   "outputs": [],
   "source": [
    "species = []\n",
    "\n",
    "for i in range(len(ir['target'])):\n",
    "    if ir['target'][i] == 0:\n",
    "        species.append(\"setosa\")\n",
    "    elif ir['target'][i] == 1:\n",
    "        species.append('versicolor')\n",
    "    else:\n",
    "        species.append('virginica')\n",
    "\n",
    "ir['species'] = species"
   ]
  },
  {
   "cell_type": "code",
   "execution_count": 7,
   "id": "a97b73aa",
   "metadata": {},
   "outputs": [
    {
     "data": {
      "text/plain": [
       "species\n",
       "setosa        50\n",
       "versicolor    50\n",
       "virginica     50\n",
       "dtype: int64"
      ]
     },
     "execution_count": 7,
     "metadata": {},
     "output_type": "execute_result"
    }
   ],
   "source": [
    "ir.groupby('species').size()"
   ]
  },
  {
   "cell_type": "code",
   "execution_count": 8,
   "id": "3db22c4e",
   "metadata": {},
   "outputs": [
    {
     "data": {
      "text/html": [
       "<div>\n",
       "<style scoped>\n",
       "    .dataframe tbody tr th:only-of-type {\n",
       "        vertical-align: middle;\n",
       "    }\n",
       "\n",
       "    .dataframe tbody tr th {\n",
       "        vertical-align: top;\n",
       "    }\n",
       "\n",
       "    .dataframe thead th {\n",
       "        text-align: right;\n",
       "    }\n",
       "</style>\n",
       "<table border=\"1\" class=\"dataframe\">\n",
       "  <thead>\n",
       "    <tr style=\"text-align: right;\">\n",
       "      <th></th>\n",
       "      <th>sepal length (cm)</th>\n",
       "      <th>sepal width (cm)</th>\n",
       "      <th>petal length (cm)</th>\n",
       "      <th>petal width (cm)</th>\n",
       "      <th>target</th>\n",
       "    </tr>\n",
       "  </thead>\n",
       "  <tbody>\n",
       "    <tr>\n",
       "      <th>count</th>\n",
       "      <td>150.000000</td>\n",
       "      <td>150.000000</td>\n",
       "      <td>150.000000</td>\n",
       "      <td>150.000000</td>\n",
       "      <td>150.000000</td>\n",
       "    </tr>\n",
       "    <tr>\n",
       "      <th>mean</th>\n",
       "      <td>5.843333</td>\n",
       "      <td>3.057333</td>\n",
       "      <td>3.758000</td>\n",
       "      <td>1.199333</td>\n",
       "      <td>1.000000</td>\n",
       "    </tr>\n",
       "    <tr>\n",
       "      <th>std</th>\n",
       "      <td>0.828066</td>\n",
       "      <td>0.435866</td>\n",
       "      <td>1.765298</td>\n",
       "      <td>0.762238</td>\n",
       "      <td>0.819232</td>\n",
       "    </tr>\n",
       "    <tr>\n",
       "      <th>min</th>\n",
       "      <td>4.300000</td>\n",
       "      <td>2.000000</td>\n",
       "      <td>1.000000</td>\n",
       "      <td>0.100000</td>\n",
       "      <td>0.000000</td>\n",
       "    </tr>\n",
       "    <tr>\n",
       "      <th>25%</th>\n",
       "      <td>5.100000</td>\n",
       "      <td>2.800000</td>\n",
       "      <td>1.600000</td>\n",
       "      <td>0.300000</td>\n",
       "      <td>0.000000</td>\n",
       "    </tr>\n",
       "    <tr>\n",
       "      <th>50%</th>\n",
       "      <td>5.800000</td>\n",
       "      <td>3.000000</td>\n",
       "      <td>4.350000</td>\n",
       "      <td>1.300000</td>\n",
       "      <td>1.000000</td>\n",
       "    </tr>\n",
       "    <tr>\n",
       "      <th>75%</th>\n",
       "      <td>6.400000</td>\n",
       "      <td>3.300000</td>\n",
       "      <td>5.100000</td>\n",
       "      <td>1.800000</td>\n",
       "      <td>2.000000</td>\n",
       "    </tr>\n",
       "    <tr>\n",
       "      <th>max</th>\n",
       "      <td>7.900000</td>\n",
       "      <td>4.400000</td>\n",
       "      <td>6.900000</td>\n",
       "      <td>2.500000</td>\n",
       "      <td>2.000000</td>\n",
       "    </tr>\n",
       "  </tbody>\n",
       "</table>\n",
       "</div>"
      ],
      "text/plain": [
       "       sepal length (cm)  sepal width (cm)  petal length (cm)  \\\n",
       "count         150.000000        150.000000         150.000000   \n",
       "mean            5.843333          3.057333           3.758000   \n",
       "std             0.828066          0.435866           1.765298   \n",
       "min             4.300000          2.000000           1.000000   \n",
       "25%             5.100000          2.800000           1.600000   \n",
       "50%             5.800000          3.000000           4.350000   \n",
       "75%             6.400000          3.300000           5.100000   \n",
       "max             7.900000          4.400000           6.900000   \n",
       "\n",
       "       petal width (cm)      target  \n",
       "count        150.000000  150.000000  \n",
       "mean           1.199333    1.000000  \n",
       "std            0.762238    0.819232  \n",
       "min            0.100000    0.000000  \n",
       "25%            0.300000    0.000000  \n",
       "50%            1.300000    1.000000  \n",
       "75%            1.800000    2.000000  \n",
       "max            2.500000    2.000000  "
      ]
     },
     "execution_count": 8,
     "metadata": {},
     "output_type": "execute_result"
    }
   ],
   "source": [
    "ir.describe()"
   ]
  },
  {
   "cell_type": "code",
   "execution_count": 9,
   "id": "590e5e0c",
   "metadata": {},
   "outputs": [],
   "source": [
    "setosa = ir[ir.species == \"setosa\"]\n",
    "versicolor = ir[ir.species == 'versicolor']\n",
    "virginica = ir[ir.species == 'virginica']"
   ]
  },
  {
   "cell_type": "code",
   "execution_count": 10,
   "id": "4f7e5806",
   "metadata": {},
   "outputs": [
    {
     "data": {
      "image/png": "[encoded data removed]",
      "text/plain": [
       "<Figure size 936x504 with 1 Axes>"
      ]
     },
     "metadata": {
      "needs_background": "light"
     },
     "output_type": "display_data"
    }
   ],
   "source": [
    "fig, sub = plt.subplots()\n",
    "fig.set_size_inches(13,7)\n",
    "\n",
    "sub.scatter(setosa['petal length (cm)'],setosa['petal width (cm)'], color='red')\n",
    "sub.scatter(versicolor['petal length (cm)'],versicolor['petal width (cm)'], color='blue')\n",
    "sub.scatter(virginica['petal length (cm)'],virginica['petal width (cm)'], color='green')\n",
    "\n",
    "sub.set_xlabel(\"Petal length cm\")\n",
    "sub.set_ylabel(\"Petal width cm\")\n",
    "sub.grid()\n",
    "sub.set_title(\"Iris dataset\")\n",
    "plt.show()"
   ]
  },
  {
   "cell_type": "code",
   "execution_count": 11,
   "id": "69ed3db4",
   "metadata": {},
   "outputs": [],
   "source": [
    "from sklearn.model_selection import train_test_split"
   ]
  },
  {
   "cell_type": "code",
   "execution_count": 13,
   "id": "24d60c54",
   "metadata": {},
   "outputs": [],
   "source": [
    "X = ir.drop(['target','species'], axis = 1)\n",
    "X = X.to_numpy()[:, (2,3)]\n",
    "y = ir['target']\n",
    "\n",
    "X_train, X_test, y_train, y_test = train_test_split(X,y,test_size=0.2, random_state=42)"
   ]
  },
  {
   "cell_type": "code",
   "execution_count": 14,
   "id": "d6dde5dd",
   "metadata": {},
   "outputs": [
    {
     "name": "stdout",
     "output_type": "stream",
     "text": [
      "[[1.  0.2]\n",
      " [1.5 0.4]\n",
      " [4.4 1.4]\n",
      " [1.6 0.2]\n",
      " [1.3 0.2]\n",
      " [5.  1.9]\n",
      " [4.5 1.5]\n",
      " [1.5 0.2]\n",
      " [1.4 0.2]\n",
      " [1.5 0.1]\n",
      " [5.1 1.9]\n",
      " [4.5 1.6]\n",
      " [4.7 1.5]\n",
      " [1.3 0.4]\n",
      " [1.5 0.2]\n",
      " [3.7 1. ]\n",
      " [5.1 1.5]\n",
      " [5.5 1.8]\n",
      " [4.4 1.4]\n",
      " [6.1 2.5]\n",
      " [4.2 1.3]\n",
      " [6.6 2.1]\n",
      " [4.5 1.5]\n",
      " [1.4 0.2]\n",
      " [6.7 2. ]\n",
      " [4.1 1. ]\n",
      " [1.4 0.2]\n",
      " [1.3 0.3]\n",
      " [1.9 0.4]\n",
      " [3.5 1. ]\n",
      " [4.9 1.8]\n",
      " [1.9 0.2]\n",
      " [1.6 0.2]\n",
      " [1.7 0.5]\n",
      " [4.2 1.3]\n",
      " [1.5 0.2]\n",
      " [4.2 1.2]\n",
      " [6.7 2.2]\n",
      " [1.4 0.2]\n",
      " [4.3 1.3]\n",
      " [5.  2. ]\n",
      " [1.4 0.2]\n",
      " [4.8 1.8]\n",
      " [5.1 1.9]\n",
      " [4.  1. ]\n",
      " [4.5 1.5]\n",
      " [5.4 2.3]\n",
      " [4.  1.3]\n",
      " [1.7 0.4]\n",
      " [3.3 1. ]\n",
      " [5.3 1.9]\n",
      " [1.4 0.2]\n",
      " [1.2 0.2]\n",
      " [3.8 1.1]\n",
      " [5.  1.7]\n",
      " [1.5 0.2]\n",
      " [5.1 2.4]\n",
      " [1.5 0.2]\n",
      " [1.6 0.6]\n",
      " [4.8 1.8]\n",
      " [3.  1.1]\n",
      " [5.7 2.3]\n",
      " [5.1 1.6]\n",
      " [5.6 1.4]\n",
      " [6.1 2.3]\n",
      " [4.  1.3]\n",
      " [1.4 0.2]\n",
      " [1.1 0.1]\n",
      " [5.  1.5]\n",
      " [6.  1.8]\n",
      " [1.5 0.2]\n",
      " [1.4 0.3]\n",
      " [1.3 0.2]\n",
      " [4.9 1.5]\n",
      " [5.6 2.4]\n",
      " [1.4 0.3]\n",
      " [5.5 2.1]\n",
      " [6.  2.5]\n",
      " [1.3 0.2]\n",
      " [4.7 1.4]\n",
      " [4.6 1.5]\n",
      " [4.8 1.8]\n",
      " [4.7 1.4]\n",
      " [5.3 2.3]\n",
      " [1.6 0.2]\n",
      " [5.4 2.1]\n",
      " [4.2 1.5]\n",
      " [5.2 2. ]\n",
      " [3.5 1. ]\n",
      " [3.9 1.4]\n",
      " [4.6 1.4]\n",
      " [1.3 0.3]\n",
      " [4.6 1.3]\n",
      " [4.4 1.2]\n",
      " [1.5 0.2]\n",
      " [4.1 1.3]\n",
      " [6.3 1.8]\n",
      " [5.7 2.1]\n",
      " [1.5 0.4]\n",
      " [3.3 1. ]\n",
      " [5.7 2.5]\n",
      " [5.8 1.6]\n",
      " [1.4 0.1]\n",
      " [5.6 2.4]\n",
      " [1.4 0.2]\n",
      " [4.9 1.5]\n",
      " [6.1 1.9]\n",
      " [5.6 1.8]\n",
      " [4.1 1.3]\n",
      " [5.5 1.8]\n",
      " [4.4 1.3]\n",
      " [4.3 1.3]\n",
      " [4.9 2. ]\n",
      " [5.1 1.8]\n",
      " [1.7 0.2]\n",
      " [4.  1.3]\n",
      " [4.5 1.7]\n",
      " [1.2 0.2]\n",
      " [4.  1.2]\n",
      " [5.9 2.1]]\n"
     ]
    }
   ],
   "source": [
    "print(X_train)"
   ]
  },
  {
   "cell_type": "code",
   "execution_count": 15,
   "id": "320a82d2",
   "metadata": {},
   "outputs": [
    {
     "data": {
      "text/plain": [
       "LogisticRegression()"
      ]
     },
     "execution_count": 15,
     "metadata": {},
     "output_type": "execute_result"
    }
   ],
   "source": [
    "from sklearn.linear_model import LogisticRegression\n",
    "logis = LogisticRegression()\n",
    "logis.fit(X_train,y_train)"
   ]
  },
  {
   "cell_type": "code",
   "execution_count": 16,
   "id": "2ae8a8f6",
   "metadata": {},
   "outputs": [
    {
     "data": {
      "text/plain": [
       "array([0., 0., 1., 0., 0., 2., 1., 0., 0., 0., 2., 1., 1., 0., 0., 1., 2.,\n",
       "       2., 1., 2., 1., 2., 1., 0., 2., 1., 0., 0., 0., 1., 2., 0., 0., 0.,\n",
       "       1., 0., 1., 2., 0., 1., 2., 0., 2., 2., 1., 1., 2., 1., 0., 1., 2.,\n",
       "       0., 0., 1., 2., 0., 2., 0., 0., 2., 1., 2., 2., 2., 2., 1., 0., 0.,\n",
       "       1., 2., 0., 0., 0., 1., 2., 0., 2., 2., 0., 1., 1., 2., 1., 2., 0.,\n",
       "       2., 1., 2., 1., 1., 1., 0., 1., 1., 0., 1., 2., 2., 0., 1., 2., 2.,\n",
       "       0., 2., 0., 1., 2., 2., 1., 2., 1., 1., 2., 2., 0., 1., 1., 0., 1.,\n",
       "       2.])"
      ]
     },
     "execution_count": 16,
     "metadata": {},
     "output_type": "execute_result"
    }
   ],
   "source": [
    "x_pred = logis.predict(X_train)\n",
    "x_pred"
   ]
  },
  {
   "cell_type": "code",
   "execution_count": 17,
   "id": "7751c804",
   "metadata": {},
   "outputs": [
    {
     "data": {
      "text/plain": [
       "array([1., 0., 2., 1., 1., 0., 1., 2., 1., 1., 2., 0., 0., 0., 0., 1., 2.,\n",
       "       1., 1., 2., 0., 2., 0., 2., 2., 2., 2., 2., 0., 0.])"
      ]
     },
     "execution_count": 17,
     "metadata": {},
     "output_type": "execute_result"
    }
   ],
   "source": [
    "y_pred = logis.predict(X_test)\n",
    "y_pred"
   ]
  },
  {
   "cell_type": "code",
   "execution_count": 18,
   "id": "738c13a6",
   "metadata": {},
   "outputs": [
    {
     "name": "stdout",
     "output_type": "stream",
     "text": [
      "Precision, Recall, Confusion matrix, in training\n",
      "\n",
      "              precision    recall  f1-score   support\n",
      "\n",
      "         0.0      1.000     1.000     1.000        40\n",
      "         1.0      0.950     0.927     0.938        41\n",
      "         2.0      0.925     0.949     0.937        39\n",
      "\n",
      "    accuracy                          0.958       120\n",
      "   macro avg      0.958     0.959     0.958       120\n",
      "weighted avg      0.959     0.958     0.958       120\n",
      "\n",
      "[[40  0  0]\n",
      " [ 0 38  3]\n",
      " [ 0  2 37]]\n"
     ]
    }
   ],
   "source": [
    "from sklearn import metrics\n",
    "print(\"Precision, Recall, Confusion matrix, in training\\n\")\n",
    "\n",
    "print(metrics.classification_report(y_train, x_pred, digits=3))\n",
    "\n",
    "print(metrics.confusion_matrix(y_train, x_pred))"
   ]
  },
  {
   "cell_type": "code",
   "execution_count": 19,
   "id": "f522aad8",
   "metadata": {},
   "outputs": [
    {
     "name": "stdout",
     "output_type": "stream",
     "text": [
      "Precision, Recall, Confusion matrix, in testing\n",
      "\n",
      "              precision    recall  f1-score   support\n",
      "\n",
      "         0.0      1.000     1.000     1.000        10\n",
      "         1.0      1.000     1.000     1.000         9\n",
      "         2.0      1.000     1.000     1.000        11\n",
      "\n",
      "    accuracy                          1.000        30\n",
      "   macro avg      1.000     1.000     1.000        30\n",
      "weighted avg      1.000     1.000     1.000        30\n",
      "\n",
      "[[10  0  0]\n",
      " [ 0  9  0]\n",
      " [ 0  0 11]]\n"
     ]
    }
   ],
   "source": [
    "print(\"Precision, Recall, Confusion matrix, in testing\\n\")\n",
    "\n",
    "print(metrics.classification_report(y_test, y_pred, digits=3))\n",
    "\n",
    "print(metrics.confusion_matrix(y_test, y_pred))"
   ]
  },
  {
   "cell_type": "code",
   "execution_count": null,
   "id": "69d01f60",
   "metadata": {},
   "outputs": [],
   "source": []
  }
 ],
 "metadata": {
  "kernelspec": {
   "display_name": "Python 3",
   "language": "python",
   "name": "python3"
  },
  "language_info": {
   "codemirror_mode": {
    "name": "ipython",
    "version": 3
   },
   "file_extension": ".py",
   "mimetype": "text/x-python",
   "name": "python",
   "nbconvert_exporter": "python",
   "pygments_lexer": "ipython3",
   "version": "3.8.8"
  }
 },
 "nbformat": 4,
 "nbformat_minor": 5
}
